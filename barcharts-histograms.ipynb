{
 "cells": [
  {
   "cell_type": "markdown",
   "id": "f498db54-7556-40a7-9344-7e3211881d0d",
   "metadata": {},
   "source": [
    "# Bar charts and Histograms"
   ]
  },
  {
   "cell_type": "code",
   "execution_count": 1,
   "id": "2d098ba4-c9bf-42bb-b1c2-1a451d64aee1",
   "metadata": {},
   "outputs": [],
   "source": [
    "# Import pyplot for plotting\n",
    "import matplotlib.pyplot as plt\n",
    "\n",
    "# Import pandas for data frames\n",
    "import pandas as pd\n",
    "\n",
    "# Import numpy for numerical arrays\n",
    "import numpy as np\n"
   ]
  },
  {
   "cell_type": "code",
   "execution_count": 2,
   "id": "949ca9a0-9c13-4f52-b682-bc54eae4a699",
   "metadata": {},
   "outputs": [],
   "source": [
    "# Change the style of plots\n",
    "plt.style.use('classic')\n",
    "\n",
    "# Change default figure size\n",
    "plt.rcParams['figure.figsize'] = (14,8)"
   ]
  },
  {
   "cell_type": "markdown",
   "id": "6b987d96-eb5a-4147-ae74-ff3a6f3c691b",
   "metadata": {},
   "source": [
    "<br>\n",
    "\n",
    "## Bar charts\n",
    "https://matplotlib.org/stable/api/_as_gen/matplotlib.pyplot.bar.html"
   ]
  },
  {
   "cell_type": "code",
   "execution_count": 3,
   "id": "537acb9d-047d-41d0-8b0c-9e5bfa34de4d",
   "metadata": {},
   "outputs": [
    {
     "data": {
      "text/html": [
       "<div>\n",
       "<style scoped>\n",
       "    .dataframe tbody tr th:only-of-type {\n",
       "        vertical-align: middle;\n",
       "    }\n",
       "\n",
       "    .dataframe tbody tr th {\n",
       "        vertical-align: top;\n",
       "    }\n",
       "\n",
       "    .dataframe thead th {\n",
       "        text-align: right;\n",
       "    }\n",
       "</style>\n",
       "<table border=\"1\" class=\"dataframe\">\n",
       "  <thead>\n",
       "    <tr style=\"text-align: right;\">\n",
       "      <th></th>\n",
       "      <th>sepal_length</th>\n",
       "      <th>sepal_width</th>\n",
       "      <th>petal_length</th>\n",
       "      <th>petal_width</th>\n",
       "      <th>species</th>\n",
       "    </tr>\n",
       "  </thead>\n",
       "  <tbody>\n",
       "    <tr>\n",
       "      <th>0</th>\n",
       "      <td>5.1</td>\n",
       "      <td>3.5</td>\n",
       "      <td>1.4</td>\n",
       "      <td>0.2</td>\n",
       "      <td>Iris-setosa</td>\n",
       "    </tr>\n",
       "    <tr>\n",
       "      <th>1</th>\n",
       "      <td>4.9</td>\n",
       "      <td>3.0</td>\n",
       "      <td>1.4</td>\n",
       "      <td>0.2</td>\n",
       "      <td>Iris-setosa</td>\n",
       "    </tr>\n",
       "    <tr>\n",
       "      <th>2</th>\n",
       "      <td>4.7</td>\n",
       "      <td>3.2</td>\n",
       "      <td>1.3</td>\n",
       "      <td>0.2</td>\n",
       "      <td>Iris-setosa</td>\n",
       "    </tr>\n",
       "    <tr>\n",
       "      <th>3</th>\n",
       "      <td>4.6</td>\n",
       "      <td>3.1</td>\n",
       "      <td>1.5</td>\n",
       "      <td>0.2</td>\n",
       "      <td>Iris-setosa</td>\n",
       "    </tr>\n",
       "    <tr>\n",
       "      <th>4</th>\n",
       "      <td>5.0</td>\n",
       "      <td>3.6</td>\n",
       "      <td>1.4</td>\n",
       "      <td>0.2</td>\n",
       "      <td>Iris-setosa</td>\n",
       "    </tr>\n",
       "    <tr>\n",
       "      <th>...</th>\n",
       "      <td>...</td>\n",
       "      <td>...</td>\n",
       "      <td>...</td>\n",
       "      <td>...</td>\n",
       "      <td>...</td>\n",
       "    </tr>\n",
       "    <tr>\n",
       "      <th>145</th>\n",
       "      <td>6.7</td>\n",
       "      <td>3.0</td>\n",
       "      <td>5.2</td>\n",
       "      <td>2.3</td>\n",
       "      <td>Iris-virginica</td>\n",
       "    </tr>\n",
       "    <tr>\n",
       "      <th>146</th>\n",
       "      <td>6.3</td>\n",
       "      <td>2.5</td>\n",
       "      <td>5.0</td>\n",
       "      <td>1.9</td>\n",
       "      <td>Iris-virginica</td>\n",
       "    </tr>\n",
       "    <tr>\n",
       "      <th>147</th>\n",
       "      <td>6.5</td>\n",
       "      <td>3.0</td>\n",
       "      <td>5.2</td>\n",
       "      <td>2.0</td>\n",
       "      <td>Iris-virginica</td>\n",
       "    </tr>\n",
       "    <tr>\n",
       "      <th>148</th>\n",
       "      <td>6.2</td>\n",
       "      <td>3.4</td>\n",
       "      <td>5.4</td>\n",
       "      <td>2.3</td>\n",
       "      <td>Iris-virginica</td>\n",
       "    </tr>\n",
       "    <tr>\n",
       "      <th>149</th>\n",
       "      <td>5.9</td>\n",
       "      <td>3.0</td>\n",
       "      <td>5.1</td>\n",
       "      <td>1.8</td>\n",
       "      <td>Iris-virginica</td>\n",
       "    </tr>\n",
       "  </tbody>\n",
       "</table>\n",
       "<p>150 rows × 5 columns</p>\n",
       "</div>"
      ],
      "text/plain": [
       "     sepal_length  sepal_width  petal_length  petal_width         species\n",
       "0             5.1          3.5           1.4          0.2     Iris-setosa\n",
       "1             4.9          3.0           1.4          0.2     Iris-setosa\n",
       "2             4.7          3.2           1.3          0.2     Iris-setosa\n",
       "3             4.6          3.1           1.5          0.2     Iris-setosa\n",
       "4             5.0          3.6           1.4          0.2     Iris-setosa\n",
       "..            ...          ...           ...          ...             ...\n",
       "145           6.7          3.0           5.2          2.3  Iris-virginica\n",
       "146           6.3          2.5           5.0          1.9  Iris-virginica\n",
       "147           6.5          3.0           5.2          2.0  Iris-virginica\n",
       "148           6.2          3.4           5.4          2.3  Iris-virginica\n",
       "149           5.9          3.0           5.1          1.8  Iris-virginica\n",
       "\n",
       "[150 rows x 5 columns]"
      ]
     },
     "execution_count": 3,
     "metadata": {},
     "output_type": "execute_result"
    }
   ],
   "source": [
    "# Load the Iris dataset\n",
    "df = pd.read_csv('https://raw.githubusercontent.com/ssteffens/pands-project2021/main/iris.data', names = ['sepal_length', 'sepal_width', 'petal_length', 'petal_width', 'species'])\n",
    "df"
   ]
  },
  {
   "cell_type": "code",
   "execution_count": 4,
   "id": "3ec89c98-6bbd-4b8c-ab77-62a5396b7588",
   "metadata": {},
   "outputs": [
    {
     "data": {
      "text/plain": [
       "Iris-versicolor    50\n",
       "Iris-setosa        50\n",
       "Iris-virginica     50\n",
       "Name: species, dtype: int64"
      ]
     },
     "execution_count": 4,
     "metadata": {},
     "output_type": "execute_result"
    }
   ],
   "source": [
    "#Extract the value counts for the species\n",
    "counts = df['species'].value_counts()\n",
    "counts"
   ]
  },
  {
   "cell_type": "code",
   "execution_count": 5,
   "id": "09cca6fe-d355-4b43-812a-f23e6834b9e9",
   "metadata": {},
   "outputs": [
    {
     "data": {
      "text/plain": [
       "Index(['Iris-versicolor', 'Iris-setosa', 'Iris-virginica'], dtype='object')"
      ]
     },
     "execution_count": 5,
     "metadata": {},
     "output_type": "execute_result"
    }
   ],
   "source": [
    "# Extract the categories\n",
    "categories = counts.index\n",
    "categories"
   ]
  },
  {
   "cell_type": "code",
   "execution_count": 6,
   "id": "d6c751e5-300d-4059-868c-3a742c007a5f",
   "metadata": {},
   "outputs": [
    {
     "data": {
      "text/plain": [
       "<BarContainer object of 3 artists>"
      ]
     },
     "execution_count": 6,
     "metadata": {},
     "output_type": "execute_result"
    },
    {
     "data": {
      "image/png": "[encoded data removed]",
      "text/plain": [
       "<Figure size 1120x640 with 1 Axes>"
      ]
     },
     "metadata": {},
     "output_type": "display_data"
    }
   ],
   "source": [
    "# Create a bar chart of count of categories\n",
    "# Two mandatory parameters: x and height\n",
    "plt.bar(x = categories, height = counts, width = 0.6)"
   ]
  },
  {
   "cell_type": "code",
   "execution_count": 7,
   "id": "450105b6-b751-4bf2-99d2-5681b9dd2a04",
   "metadata": {
    "scrolled": true,
    "tags": []
   },
   "outputs": [
    {
     "data": {
      "text/plain": [
       "0     0.2\n",
       "1     0.2\n",
       "2     0.2\n",
       "3     0.2\n",
       "4     0.2\n",
       "5     0.4\n",
       "6     0.3\n",
       "7     0.2\n",
       "8     0.2\n",
       "9     0.1\n",
       "10    0.2\n",
       "11    0.2\n",
       "12    0.1\n",
       "13    0.1\n",
       "14    0.2\n",
       "15    0.4\n",
       "16    0.4\n",
       "17    0.3\n",
       "18    0.3\n",
       "19    0.3\n",
       "20    0.2\n",
       "21    0.4\n",
       "22    0.2\n",
       "23    0.5\n",
       "24    0.2\n",
       "25    0.2\n",
       "26    0.4\n",
       "27    0.2\n",
       "28    0.2\n",
       "29    0.2\n",
       "30    0.2\n",
       "31    0.4\n",
       "32    0.1\n",
       "33    0.2\n",
       "34    0.2\n",
       "35    0.2\n",
       "36    0.2\n",
       "37    0.1\n",
       "38    0.2\n",
       "39    0.2\n",
       "40    0.3\n",
       "41    0.3\n",
       "42    0.2\n",
       "43    0.6\n",
       "44    0.4\n",
       "45    0.3\n",
       "46    0.2\n",
       "47    0.2\n",
       "48    0.2\n",
       "49    0.2\n",
       "Name: petal_width, dtype: float64"
      ]
     },
     "execution_count": 7,
     "metadata": {},
     "output_type": "execute_result"
    }
   ],
   "source": [
    "# Extract petal width of Setosas\n",
    "df_setosa = df[df['species'] == 'Iris-setosa']\n",
    "petals = df_setosa['petal_width']\n",
    "petals"
   ]
  },
  {
   "cell_type": "code",
   "execution_count": 8,
   "id": "1c7a5759-1e5d-4d1d-b4a9-9055b5f5fba4",
   "metadata": {},
   "outputs": [
    {
     "data": {
      "text/plain": [
       "0.2    29\n",
       "0.4     7\n",
       "0.3     7\n",
       "0.1     5\n",
       "0.5     1\n",
       "0.6     1\n",
       "Name: petal_width, dtype: int64"
      ]
     },
     "execution_count": 8,
     "metadata": {},
     "output_type": "execute_result"
    }
   ],
   "source": [
    "# Get the value counts of the setosa petal width\n",
    "petal_counts = petals.value_counts()\n",
    "petal_counts"
   ]
  },
  {
   "cell_type": "code",
   "execution_count": 9,
   "id": "e4c68c1c-e30c-4edd-aeb6-48ef0a8d4235",
   "metadata": {},
   "outputs": [
    {
     "data": {
      "text/plain": [
       "<BarContainer object of 6 artists>"
      ]
     },
     "execution_count": 9,
     "metadata": {},
     "output_type": "execute_result"
    },
    {
     "data": {
      "image/png": "[encoded data removed]",
      "text/plain": [
       "<Figure size 1120x640 with 1 Axes>"
      ]
     },
     "metadata": {},
     "output_type": "display_data"
    }
   ],
   "source": [
    "# Create a bar chart\n",
    "plt.bar(petal_counts.index, petal_counts)"
   ]
  },
  {
   "cell_type": "code",
   "execution_count": 10,
   "id": "7b4d7cb9-e17b-4708-bbf1-2fafa607efe6",
   "metadata": {},
   "outputs": [
    {
     "data": {
      "text/plain": [
       "<BarContainer object of 6 artists>"
      ]
     },
     "execution_count": 10,
     "metadata": {},
     "output_type": "execute_result"
    },
    {
     "data": {
      "image/png": "[encoded data removed]",
      "text/plain": [
       "<Figure size 1120x640 with 1 Axes>"
      ]
     },
     "metadata": {},
     "output_type": "display_data"
    }
   ],
   "source": [
    "# As the categories (x) are numbers, pyplot uses them as locations on the x-axis with the bars centered around each x value\n",
    "# To change the weird look of the above\n",
    "plt.bar(petal_counts.index, petal_counts, width=0.05)"
   ]
  },
  {
   "cell_type": "code",
   "execution_count": null,
   "id": "73dc22a1-ee2d-42f0-8a2d-ff091c13ab08",
   "metadata": {},
   "outputs": [],
   "source": []
  },
  {
   "cell_type": "markdown",
   "id": "e0f224cb-abe1-4c2f-bb03-297bd09a501c",
   "metadata": {},
   "source": [
    "<br>\n",
    "\n",
    "## Histograms\n",
    "https://matplotlib.org/stable/api/_as_gen/matplotlib.pyplot.hist.html"
   ]
  },
  {
   "cell_type": "code",
   "execution_count": 11,
   "id": "39406d05-7ef5-419e-89b6-c0a38f23ae83",
   "metadata": {},
   "outputs": [
    {
     "data": {
      "text/plain": [
       "0      5.1\n",
       "1      4.9\n",
       "2      4.7\n",
       "3      4.6\n",
       "4      5.0\n",
       "      ... \n",
       "145    6.7\n",
       "146    6.3\n",
       "147    6.5\n",
       "148    6.2\n",
       "149    5.9\n",
       "Name: sepal_length, Length: 150, dtype: float64"
      ]
     },
     "execution_count": 11,
     "metadata": {},
     "output_type": "execute_result"
    }
   ],
   "source": [
    "# Histogram of sepal_length\n",
    "# 1 mandatory parameter: x (array of data)\n",
    "\n",
    "sepal_length = df['sepal_length']\n",
    "sepal_length"
   ]
  },
  {
   "cell_type": "code",
   "execution_count": 12,
   "id": "c4afbf11-2b7d-43ed-8df7-2d7472251c3b",
   "metadata": {},
   "outputs": [
    {
     "data": {
      "text/plain": [
       "(array([ 9., 23., 14., 27., 16., 26., 18.,  6.,  5.,  6.]),\n",
       " array([4.3 , 4.66, 5.02, 5.38, 5.74, 6.1 , 6.46, 6.82, 7.18, 7.54, 7.9 ]),\n",
       " <BarContainer object of 10 artists>)"
      ]
     },
     "execution_count": 12,
     "metadata": {},
     "output_type": "execute_result"
    },
    {
     "data": {
      "image/png": "[encoded data removed]",
      "text/plain": [
       "<Figure size 1120x640 with 1 Axes>"
      ]
     },
     "metadata": {},
     "output_type": "display_data"
    }
   ],
   "source": [
    "plt.hist(sepal_length)\n",
    "\n",
    "# Output is a tuple below (2 arrays (height and edge values of x) and barContainer)"
   ]
  },
  {
   "cell_type": "code",
   "execution_count": 13,
   "id": "b8e0a780-19e1-4527-af0f-c7f1d292607b",
   "metadata": {},
   "outputs": [
    {
     "data": {
      "text/plain": [
       "count    150.000000\n",
       "mean       5.843333\n",
       "std        0.828066\n",
       "min        4.300000\n",
       "25%        5.100000\n",
       "50%        5.800000\n",
       "75%        6.400000\n",
       "max        7.900000\n",
       "Name: sepal_length, dtype: float64"
      ]
     },
     "execution_count": 13,
     "metadata": {},
     "output_type": "execute_result"
    }
   ],
   "source": [
    "# pyplot takes lowest and highest value from data range and splits it into 10 parts (default 10 bins)\n",
    "# right-most value of the bin is not included in the left but in the right bin, for example a value 4.66 would be in the second bin rather than the first\n",
    "# Exception to the above is the very last bin which includes the highest value\n",
    "sepal_length.describe()"
   ]
  },
  {
   "cell_type": "code",
   "execution_count": 14,
   "id": "cde65209-449d-4a3e-9dec-cf04f9c3fc16",
   "metadata": {},
   "outputs": [
    {
     "data": {
      "text/plain": [
       "(array([0.16666667, 0.42592593, 0.25925926, 0.5       , 0.2962963 ,\n",
       "        0.48148148, 0.33333333, 0.11111111, 0.09259259, 0.11111111]),\n",
       " array([4.3 , 4.66, 5.02, 5.38, 5.74, 6.1 , 6.46, 6.82, 7.18, 7.54, 7.9 ]),\n",
       " <BarContainer object of 10 artists>)"
      ]
     },
     "execution_count": 14,
     "metadata": {},
     "output_type": "execute_result"
    },
    {
     "data": {
      "image/png": "[encoded data removed]",
      "text/plain": [
       "<Figure size 1120x640 with 1 Axes>"
      ]
     },
     "metadata": {},
     "output_type": "display_data"
    }
   ],
   "source": [
    "# Setting density to true changes the y-axis to display probability density:\n",
    "# each bin will display the bin's raw count divided by the total number of counts and the bin width (density = counts / (sum(counts) * np.diff(bins))), so that the area under the histogram integrates to 1 (np.sum(density * np.diff(bins)) == 1).\n",
    "plt.hist(sepal_length, density = True)"
   ]
  },
  {
   "cell_type": "code",
   "execution_count": 15,
   "id": "b2fc2f22-1466-42f9-8300-72b22ee5abc8",
   "metadata": {},
   "outputs": [],
   "source": [
    "# Separate the species for sepal length\n",
    "df_setosa = df[df['species'] == 'Iris-setosa']['sepal_length'].to_numpy()\n",
    "df_versicolor = df[df['species'] == 'Iris-versicolor']['sepal_length'].to_numpy()\n",
    "df_virginica = df[df['species'] == 'Iris-virginica']['sepal_length'].to_numpy()"
   ]
  },
  {
   "cell_type": "code",
   "execution_count": 16,
   "id": "c73857fc-aad6-4686-a726-36c7efcf0140",
   "metadata": {
    "scrolled": true,
    "tags": []
   },
   "outputs": [
    {
     "data": {
      "text/plain": [
       "array([[5.1, 7. , 6.3],\n",
       "       [4.9, 6.4, 5.8],\n",
       "       [4.7, 6.9, 7.1],\n",
       "       [4.6, 5.5, 6.3],\n",
       "       [5. , 6.5, 6.5],\n",
       "       [5.4, 5.7, 7.6],\n",
       "       [4.6, 6.3, 4.9],\n",
       "       [5. , 4.9, 7.3],\n",
       "       [4.4, 6.6, 6.7],\n",
       "       [4.9, 5.2, 7.2],\n",
       "       [5.4, 5. , 6.5],\n",
       "       [4.8, 5.9, 6.4],\n",
       "       [4.8, 6. , 6.8],\n",
       "       [4.3, 6.1, 5.7],\n",
       "       [5.8, 5.6, 5.8],\n",
       "       [5.7, 6.7, 6.4],\n",
       "       [5.4, 5.6, 6.5],\n",
       "       [5.1, 5.8, 7.7],\n",
       "       [5.7, 6.2, 7.7],\n",
       "       [5.1, 5.6, 6. ],\n",
       "       [5.4, 5.9, 6.9],\n",
       "       [5.1, 6.1, 5.6],\n",
       "       [4.6, 6.3, 7.7],\n",
       "       [5.1, 6.1, 6.3],\n",
       "       [4.8, 6.4, 6.7],\n",
       "       [5. , 6.6, 7.2],\n",
       "       [5. , 6.8, 6.2],\n",
       "       [5.2, 6.7, 6.1],\n",
       "       [5.2, 6. , 6.4],\n",
       "       [4.7, 5.7, 7.2],\n",
       "       [4.8, 5.5, 7.4],\n",
       "       [5.4, 5.5, 7.9],\n",
       "       [5.2, 5.8, 6.4],\n",
       "       [5.5, 6. , 6.3],\n",
       "       [4.9, 5.4, 6.1],\n",
       "       [5. , 6. , 7.7],\n",
       "       [5.5, 6.7, 6.3],\n",
       "       [4.9, 6.3, 6.4],\n",
       "       [4.4, 5.6, 6. ],\n",
       "       [5.1, 5.5, 6.9],\n",
       "       [5. , 5.5, 6.7],\n",
       "       [4.5, 6.1, 6.9],\n",
       "       [4.4, 5.8, 5.8],\n",
       "       [5. , 5. , 6.8],\n",
       "       [5.1, 5.6, 6.7],\n",
       "       [4.8, 5.7, 6.7],\n",
       "       [5.1, 5.7, 6.3],\n",
       "       [4.6, 6.2, 6.5],\n",
       "       [5.3, 5.1, 6.2],\n",
       "       [5. , 5.7, 5.9]])"
      ]
     },
     "execution_count": 16,
     "metadata": {},
     "output_type": "execute_result"
    }
   ],
   "source": [
    "# Create a 2-D array of 3 values of sepal length by species\n",
    "# .T transposes the array\n",
    "x = np.vstack([df_setosa, df_versicolor, df_virginica]).T\n",
    "x"
   ]
  },
  {
   "cell_type": "code",
   "execution_count": 17,
   "id": "2ae37be8-a75d-43a0-9582-074147d7cb24",
   "metadata": {},
   "outputs": [
    {
     "data": {
      "text/plain": [
       "(array([[ 9., 19., 12.,  9.,  1.,  0.,  0.,  0.,  0.,  0.],\n",
       "        [ 0.,  3.,  2., 16.,  9., 11.,  7.,  2.,  0.,  0.],\n",
       "        [ 0.,  1.,  0.,  2.,  6., 15., 11.,  4.,  5.,  6.]]),\n",
       " array([4.3 , 4.66, 5.02, 5.38, 5.74, 6.1 , 6.46, 6.82, 7.18, 7.54, 7.9 ]),\n",
       " <a list of 3 BarContainer objects>)"
      ]
     },
     "execution_count": 17,
     "metadata": {},
     "output_type": "execute_result"
    },
    {
     "data": {
      "image/png": "[encoded data removed]",
      "text/plain": [
       "<Figure size 1120x640 with 1 Axes>"
      ]
     },
     "metadata": {},
     "output_type": "display_data"
    }
   ],
   "source": [
    "# Plot a weird looking histogram with all 3 species\n",
    "plt.hist(x)"
   ]
  },
  {
   "cell_type": "code",
   "execution_count": 18,
   "id": "1391193e-6671-4772-95a0-86bc7ccdde74",
   "metadata": {},
   "outputs": [
    {
     "data": {
      "text/plain": [
       "(array([[ 9., 19., 12.,  9.,  1.,  0.,  0.,  0.,  0.,  0.],\n",
       "        [ 9., 22., 14., 25., 10., 11.,  7.,  2.,  0.,  0.],\n",
       "        [ 9., 23., 14., 27., 16., 26., 18.,  6.,  5.,  6.]]),\n",
       " array([4.3 , 4.66, 5.02, 5.38, 5.74, 6.1 , 6.46, 6.82, 7.18, 7.54, 7.9 ]),\n",
       " <a list of 3 BarContainer objects>)"
      ]
     },
     "execution_count": 18,
     "metadata": {},
     "output_type": "execute_result"
    },
    {
     "data": {
      "image/png": "[encoded data removed]",
      "text/plain": [
       "<Figure size 1120x640 with 1 Axes>"
      ]
     },
     "metadata": {},
     "output_type": "display_data"
    }
   ],
   "source": [
    "# Plot a stacked histogram\n",
    "plt.hist(x, stacked = True)"
   ]
  }
 ],
 "metadata": {
  "kernelspec": {
   "display_name": "Python 3",
   "language": "python",
   "name": "python3"
  },
  "language_info": {
   "codemirror_mode": {
    "name": "ipython",
    "version": 3
   },
   "file_extension": ".py",
   "mimetype": "text/x-python",
   "name": "python",
   "nbconvert_exporter": "python",
   "pygments_lexer": "ipython3",
   "version": "3.8.8"
  }
 },
 "nbformat": 4,
 "nbformat_minor": 5
}
