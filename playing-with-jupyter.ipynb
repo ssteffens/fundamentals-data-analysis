{
 "cells": [
  {
   "cell_type": "code",
   "execution_count": 1,
   "id": "5e297540-f0cc-453f-aa6e-7645fd4b63e4",
   "metadata": {},
   "outputs": [],
   "source": [
    "i = 1\n",
    "j = 2"
   ]
  },
  {
   "cell_type": "code",
   "execution_count": 3,
   "id": "c31ca505-2b31-47db-b27b-7fce004b0d0a",
   "metadata": {},
   "outputs": [],
   "source": [
    "k = i + j"
   ]
  },
  {
   "cell_type": "code",
   "execution_count": 4,
   "id": "a287912b-6037-4b59-ab08-9c7f55af3364",
   "metadata": {},
   "outputs": [
    {
     "data": {
      "text/plain": [
       "3"
      ]
     },
     "execution_count": 4,
     "metadata": {},
     "output_type": "execute_result"
    }
   ],
   "source": [
    "k"
   ]
  },
  {
   "cell_type": "markdown",
   "id": "133c8910-2fad-41c7-885e-8908607504ff",
   "metadata": {},
   "source": [
    "# I am a heading\n",
    "\n",
    "- I am a list\n",
    "- I am a list\n",
    "- I am the third item\n",
    "\n",
    "![](https://tse4.mm.bing.net/th?id=OIP.kWHYv7yZ0XTBywBOGGiIDwAAAA&pid=Api)\n",
    "\n",
    "**Bold text**"
   ]
  },
  {
   "cell_type": "code",
   "execution_count": null,
   "id": "649bc94c-bd55-4e53-970c-4217969ebac3",
   "metadata": {},
   "outputs": [],
   "source": []
  }
 ],
 "metadata": {
  "kernelspec": {
   "display_name": "Python 3",
   "language": "python",
   "name": "python3"
  },
  "language_info": {
   "codemirror_mode": {
    "name": "ipython",
    "version": 3
   },
   "file_extension": ".py",
   "mimetype": "text/x-python",
   "name": "python",
   "nbconvert_exporter": "python",
   "pygments_lexer": "ipython3",
   "version": "3.8.8"
  }
 },
 "nbformat": 4,
 "nbformat_minor": 5
}
